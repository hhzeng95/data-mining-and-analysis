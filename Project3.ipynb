{
 "cells": [
  {
   "cell_type": "markdown",
   "metadata": {},
   "source": [
    "# Assignment 3\n",
    "\n",
    "The US Department of Agriculture publishes price estimates for fruits and vegetables [online](https://www.ers.usda.gov/data-products/fruit-and-vegetable-prices/fruit-and-vegetable-prices/). The most recent estimates are based on a 2013 survey of US retail stores.\n",
    "\n",
    "The estimates are provided as a collection of MS Excel files, with one file per fruit or vegetable. The `assignment3_data.zip` file contains the fruit and vegetable files in the directories `fruit` and `vegetables`, respectively."
   ]
  },
  {
   "cell_type": "markdown",
   "metadata": {},
   "source": [
    "__Exercise 1.1.__ Use pandas to extract the \"Fresh\" row(s) from the <strong style=\"color:#B0B\">fruit</strong> Excel files. Combine the data into a single data frame. Your data frame should look something like this:\n",
    "\n",
    "type       | food       | form   | price_per_lb | yield | lb_per_cup | price_per_cup\n",
    "---------- | ---------- | ------ | ------------ | ----- | ---------- | -------------\n",
    "fruit      | watermelon | Fresh1 | 0.333412     | 0.52  | 0.330693   | 0.212033\n",
    "fruit      | cantaloupe | Fresh1 | 0.535874     | 0.51  | 0.374786   | 0.3938\n",
    "vegetables | onions     | Fresh1 | 1.03811      | 0.9   | 0.35274    | 0.406868\n",
    "...        |            |        |              |       |            |\n",
    "\n",
    "\n",
    "It's okay if the rows and columns of your data frame are in a different order. These modules are especially relevant:\n",
    "\n",
    "* [`str` methods](https://docs.python.org/2/library/stdtypes.html#string-methods)\n",
    "* [`os`](https://docs.python.org/2/library/os.html)\n",
    "* [`os.path`](https://docs.python.org/2/library/os.path.html)\n",
    "* [pandas](http://pandas.pydata.org/pandas-docs/stable/): `read_excel()`, `concat()`, `.fillna()`, `.str`, plotting methods\n",
    "\n",
    "Ask questions and search the documentation/web to find the functions you need.\n"
   ]
  },
  {
   "cell_type": "code",
   "execution_count": null,
   "metadata": {
    "collapsed": false
   },
   "outputs": [],
   "source": [
    "import pandas as pd\n",
    "import numpy as np\n",
    "import os\n",
    "import glob\n",
    "path = '/Users/haohanzeng/Desktop/sta141B hw#3/fruit'\n",
    "price_per_lb = list()\n",
    "dat = []\n",
    "a = []\n",
    "b = []\n",
    "c = []\n",
    "d= list()\n",
    "e = list()\n",
    "    \n",
    "for filename in glob.glob(os.path.join(path, '*.xlsx')):\n",
    "    fruit = pd.read_excel(filename)\n",
    "    fruit = fruit.drop('Unnamed: 2', 1)\n",
    "    fruit = fruit.drop('Unnamed: 5', 1)\n",
    "    dat.append(fruit)\n",
    "    \n",
    "dat[22] = dat[22].drop('Unnamed: 7', 1)\n",
    "dat[22] = dat[22].drop('Unnamed: 8', 1)\n",
    "\n",
    "for i in range(0,29):\n",
    "    dat[i].columns = ['form','price_per_lb','yield','lb_per_cup','price_per_cup']\n",
    "    \n",
    "for filename in glob.glob(os.path.join(path, '*.xlsx')):   \n",
    "    base = os.path.basename(filename)\n",
    "    b = os.path.splitext(base)[0]\n",
    "    d.append(b)\n",
    "    \n",
    "for i in range(0,29):\n",
    "    a = ((dat[i]['form'] == \"Fresh1\") | (dat[i]['form'] == \"Fresh1 \"))\n",
    "    b = dat[i][a]\n",
    "    c.append(b)\n",
    "for i in range(0,29):\n",
    "    if dat[i]['form'][2]=='Fresh1':\n",
    "        g = d[i]\n",
    "        e.append(g)\n",
    "    elif dat[i]['form'][2] == \"Fresh1 \":\n",
    "        g = d[i]\n",
    "        e.append(g)\n",
    "#result = pd.concat(result)\n",
    "#for i in range(0,24):\n",
    "result_1 = pd.concat(c)\n",
    "result_1['food'] = e\n",
    "result_1[\"type\"] = \"fruit\"\n",
    "result_1"
   ]
  },
  {
   "cell_type": "markdown",
   "metadata": {},
   "source": [
    "__Exercise 1.2.__ Reuse your code from exercise 1.1 to extract the \"Fresh\" row(s) from the <strong style=\"color:#B0B\">vegetable</strong> Excel files.\n",
    "\n",
    "Does your code produce the correct prices for tomatoes? If not, why not? Do any other files have the same problem as the tomatoes file?\n",
    "\n",
    "You don't need to extract the prices for these problem files. However, make sure the prices are extracted for files like asparagus that don't have this problem."
   ]
  },
  {
   "cell_type": "code",
   "execution_count": null,
   "metadata": {
    "collapsed": false
   },
   "outputs": [],
   "source": [
    "import pandas as pd\n",
    "import numpy as np\n",
    "import os\n",
    "import glob\n",
    "path = '/Users/haohanzeng/Desktop/sta141B hw#3/vegetables'\n",
    "\n",
    "dat = list()\n",
    "a = list()\n",
    "b = list()\n",
    "g = list()\n",
    "d = list()\n",
    "e = list()\n",
    "    \n",
    "for filename in glob.glob(os.path.join(path, '*.xlsx')):\n",
    "    vegetables = pd.read_excel(filename)\n",
    "    vegetables = vegetables.drop('Unnamed: 2', 1)\n",
    "    vegetables = vegetables.drop('Unnamed: 5', 1)\n",
    "    dat.append(vegetables)\n",
    "dat[1] \n",
    "dat[19] = dat[19].drop('Unnamed: 7', 1)\n",
    "dat[19] = dat[19].drop('Unnamed: 8', 1)\n",
    "#dat[22] = dat[22].drop('Unnamed: 7', 1)\n",
    "#dat[22] = dat[22].drop('Unnamed: 8', 1)\n",
    "\n",
    "for i in range(0,44):\n",
    "    dat[i].columns = ['form','price_per_lb','yield','lb_per_cup','price_per_cup']\n",
    "    \n",
    "for filename in glob.glob(os.path.join(path, '*.xlsx')):   \n",
    "    base = os.path.basename(filename)\n",
    "    b = os.path.splitext(base)[0]\n",
    "    e.append(b)\n",
    "    \n",
    "for i in range(0,44):\n",
    "    for j in range(dat[i]['form'].size):\n",
    "        if dat[i]['form'].str.startswith('Fresh')[j] == True:\n",
    "            a = e[i]\n",
    "            g.append(a)\n",
    "            c = dat[i][2:3]\n",
    "            d.append(c)\n",
    "result_2 = pd.concat(d)\n",
    "result_2\n",
    "result_2[\"type\"] = \"vegetable\"\n",
    "result_2[\"food\"] = g\n",
    "result_2\n"
   ]
  },
  {
   "cell_type": "markdown",
   "metadata": {},
   "source": [
    "__Exercise 1.3.__ Remove rows without a price from the vegetable data frame and then combine the fruit and vegetable data frames. Make sure all columns of numbers are numeric (not strings)."
   ]
  },
  {
   "cell_type": "code",
   "execution_count": null,
   "metadata": {
    "collapsed": false
   },
   "outputs": [],
   "source": [
    "result_2 = result_2.dropna()\n",
    "result_2\n",
    "frames = [result_1 , result_2]\n",
    "result = pd.concat(frames)\n",
    "result"
   ]
  },
  {
   "cell_type": "markdown",
   "metadata": {},
   "source": [
    "__Exercise 1.4.__ Discuss the questions below (a paragraph each is sufficient). Use plots to support your ideas.\n",
    "\n",
    "* What kinds of fruits are the most expensive (per pound)? What kinds are the least expensive?\n",
    "* How do the price distributions compare for fruit and vegetables?\n",
    "* Which foods are the best value for the price?\n",
    "* What's something surprising about this data set?\n",
    "* Which foods do you expect to provide the best combination of price, yield, and nutrition? A future assignment may combine this data set with another so you can check your hypothesis."
   ]
  },
  {
   "cell_type": "code",
   "execution_count": null,
   "metadata": {
    "collapsed": false
   },
   "outputs": [],
   "source": [
    "#problem 1\n",
    "import matplotlib.pyplot as plt\n",
    "import matplotlib\n",
    "matplotlib.style.use('ggplot')\n",
    "result_1.plot(x = 'food', y = 'price_per_lb', kind = 'bar')\n",
    "plt.show()\n"
   ]
  },
  {
   "cell_type": "markdown",
   "metadata": {
    "collapsed": true
   },
   "source": [
    "from the plot we can see raspberries is the most expensive fruit and watermelon is the least expensive\n",
    "fruit"
   ]
  },
  {
   "cell_type": "code",
   "execution_count": null,
   "metadata": {
    "collapsed": false
   },
   "outputs": [],
   "source": [
    "#problem 2\n",
    "result_1.describe(percentiles=None, include=None, exclude=None)\n",
    "\n"
   ]
  },
  {
   "cell_type": "code",
   "execution_count": null,
   "metadata": {
    "collapsed": false
   },
   "outputs": [],
   "source": [
    "result_2.describe(percentiles=None, include=None, exclude=None)"
   ]
  },
  {
   "cell_type": "code",
   "execution_count": null,
   "metadata": {
    "collapsed": false
   },
   "outputs": [],
   "source": [
    "import matplotlib.pyplot as plt\n",
    "result_2.plot(x = 'food', y = 'price_per_lb', kind = 'bar')\n",
    "plt.show()"
   ]
  },
  {
   "cell_type": "code",
   "execution_count": null,
   "metadata": {
    "collapsed": false
   },
   "outputs": [],
   "source": [
    "result_1.plot(x = 'food', y = 'price_per_lb',kind = 'kde')\n",
    "result_1.plot(x = 'food', y = 'price_per_lb',kind = 'line')\n",
    "result_1.plot(x = 'food', y = 'price_per_lb',kind = 'density')\n",
    "result_2.plot(x = 'food', y = 'price_per_lb',kind = 'kde')\n",
    "result_2.plot(x = 'food', y = 'price_per_lb',kind = 'line')\n",
    "result_2.plot(x = 'food', y = 'price_per_lb',kind = 'density')"
   ]
  },
  {
   "cell_type": "markdown",
   "metadata": {
    "collapsed": true
   },
   "source": [
    "from the table and plot above, we can see the distribution of fruit has two peaks and distribution of vegetables\n",
    "is more normal than fruit."
   ]
  },
  {
   "cell_type": "code",
   "execution_count": null,
   "metadata": {
    "collapsed": true
   },
   "outputs": [],
   "source": [
    "#problem 3\n",
    "result['bestvalue'] = result['yield']/result['price_per_lb']\n",
    "result.plot(x = 'food', y = 'bestvalue', kind = 'bar')\n",
    "plt.show()"
   ]
  },
  {
   "cell_type": "markdown",
   "metadata": {},
   "source": [
    "From the plot, we can see watermelon has best value among all foods, and among vegetables,  potatos \n",
    "has the best value."
   ]
  },
  {
   "cell_type": "code",
   "execution_count": null,
   "metadata": {
    "collapsed": true
   },
   "outputs": [],
   "source": [
    "#problem 4\n",
    "\n",
    "\n"
   ]
  },
  {
   "cell_type": "markdown",
   "metadata": {},
   "source": [
    "We can find the difference of price between fruits are much higher than vegetables and the higher nutrition \n",
    "the foods have, the higher price they will have."
   ]
  },
  {
   "cell_type": "code",
   "execution_count": null,
   "metadata": {
    "collapsed": true
   },
   "outputs": [],
   "source": [
    "#problem 5\n"
   ]
  },
  {
   "cell_type": "markdown",
   "metadata": {},
   "source": [
    "It is hard since watermelon has the best value and it is full of nutrition we can say watermelon is \n",
    "the best combination of price, yield, and nutrition."
   ]
  }
 ],
 "metadata": {
  "anaconda-cloud": {},
  "kernelspec": {
   "display_name": "Python 2",
   "language": "python",
   "name": "python2"
  },
  "language_info": {
   "codemirror_mode": {
    "name": "ipython",
    "version": 2
   },
   "file_extension": ".py",
   "mimetype": "text/x-python",
   "name": "python",
   "nbconvert_exporter": "python",
   "pygments_lexer": "ipython2",
   "version": "2.7.11"
  }
 },
 "nbformat": 4,
 "nbformat_minor": 2
}
